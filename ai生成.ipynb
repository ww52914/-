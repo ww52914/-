{
 "cells": [
  {
   "cell_type": "code",
   "execution_count": null,
   "id": "5f4c9598",
   "metadata": {},
   "outputs": [],
   "source": [
    "from zhipuai import ZhipuAI\n",
    "client = ZhipuAI(api_key = \"7c04b025a373876fec4ac7f38a76b47f.cq9HcNC85cfAHEWh\")\n",
    "\n",
    "response = client.videos.generations(\n",
    "    model = \"cogvideox\",\n",
    "    prompt = \"纳美克星，龟派气功，元气弹。地爆天星\"\n",
    ")\n",
    "print(response)"
   ]
  },
  {
   "cell_type": "code",
   "execution_count": null,
   "id": "0f4eb3c0",
   "metadata": {},
   "outputs": [],
   "source": [
    "pip install zhipuai"
   ]
  },
  {
   "cell_type": "code",
   "execution_count": 7,
   "id": "cd949b21",
   "metadata": {},
   "outputs": [
    {
     "name": "stdout",
     "output_type": "stream",
     "text": [
      "VideoObject(id=None, model='cogvideox', video_result=[VideoResult(url='https://aigc-files.bigmodel.cn/api/cogvideo/a7d7f366-ac92-11ef-8bda-8e43cc144737_0.mp4', cover_image_url='https://aigc-files.bigmodel.cn/api/cogvideo/a7d7f366-ac92-11ef-8bda-8e43cc144737_cover_0.jpeg')], task_status='SUCCESS', request_id='-9203422772249457989')\n"
     ]
    }
   ],
   "source": [
    "from zhipuai import ZhipuAI\n",
    "client = ZhipuAI(api_key = \"7c04b025a373876fec4ac7f38a76b47f.cq9HcNC85cfAHEWh\")\n",
    "\n",
    "response = client.videos.retrieve_videos_result(\n",
    "    id = \"69751732174559569-9203422772249457988\"\n",
    ")\n",
    "print(response)"
   ]
  },
  {
   "cell_type": "code",
   "execution_count": 8,
   "id": "7d430dee",
   "metadata": {},
   "outputs": [
    {
     "name": "stdout",
     "output_type": "stream",
     "text": [
      "VideoObject(id='69751732174559569-9203423631243392295', model='cogvideox', video_result=None, task_status='PROCESSING', request_id='-9203423631243392296')\n"
     ]
    }
   ],
   "source": [
    "from zhipuai import ZhipuAI\n",
    "client = ZhipuAI(api_key = \"7c04b025a373876fec4ac7f38a76b47f.cq9HcNC85cfAHEWh\")\n",
    "\n",
    "response = client.videos.generations(\n",
    "    model = \"cogvideox\",\n",
    "    prompt = \"美女跳钢管舞\"\n",
    ")\n",
    "print(response)"
   ]
  },
  {
   "cell_type": "code",
   "execution_count": 13,
   "id": "11798043",
   "metadata": {},
   "outputs": [
    {
     "name": "stdout",
     "output_type": "stream",
     "text": [
      "VideoObject(id=None, model='cogvideox', video_result=[VideoResult(url='https://aigc-files.bigmodel.cn/api/cogvideo/d6601ce0-ac92-11ef-885a-5e01a0c308a2_0.mp4', cover_image_url='https://aigc-files.bigmodel.cn/api/cogvideo/d6601ce0-ac92-11ef-885a-5e01a0c308a2_cover_0.jpeg')], task_status='SUCCESS', request_id='-9203423631243392296')\n"
     ]
    }
   ],
   "source": [
    "from zhipuai import ZhipuAI\n",
    "client = ZhipuAI(api_key = \"7c04b025a373876fec4ac7f38a76b47f.cq9HcNC85cfAHEWh\")\n",
    "\n",
    "response = client.videos.retrieve_videos_result(\n",
    "    id = \"69751732174559569-9203423631243392295\"\n",
    ")\n",
    "print(response)"
   ]
  },
  {
   "cell_type": "code",
   "execution_count": null,
   "id": "8a4567fc",
   "metadata": {},
   "outputs": [],
   "source": []
  },
  {
   "cell_type": "code",
   "execution_count": null,
   "id": "7b588129",
   "metadata": {},
   "outputs": [],
   "source": []
  }
 ],
 "metadata": {
  "kernelspec": {
   "display_name": "Python 3 (ipykernel)",
   "language": "python",
   "name": "python3"
  },
  "language_info": {
   "codemirror_mode": {
    "name": "ipython",
    "version": 3
   },
   "file_extension": ".py",
   "mimetype": "text/x-python",
   "name": "python",
   "nbconvert_exporter": "python",
   "pygments_lexer": "ipython3",
   "version": "3.9.7"
  }
 },
 "nbformat": 4,
 "nbformat_minor": 5
}

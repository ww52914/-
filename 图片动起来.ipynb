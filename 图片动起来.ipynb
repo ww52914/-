{
 "cells": [
  {
   "cell_type": "code",
   "execution_count": 7,
   "id": "d269d0d4-27e4-4a96-a972-5288650caf96",
   "metadata": {},
   "outputs": [
    {
     "name": "stdout",
     "output_type": "stream",
     "text": [
      "VideoObject(id='11201732692005677-9202953212055996547', model='cogvideox', video_result=None, task_status='PROCESSING', request_id='-9202953212055996548')\n"
     ]
    }
   ],
   "source": [
    "from zhipuai import ZhipuAI\n",
    "\n",
    "client = ZhipuAI(api_key=\"d52cec0edb50db749fa27415908447a3.5htZTytpJ2u7rcK0\")\n",
    "\n",
    "response = client.videos.generations(\n",
    "    model=\"cogvideox\",\n",
    "    image_url='https://iknow-pic.cdn.bcebos.com/e7cd7b899e510fb306aa890acb33c895d0430cff',\n",
    "    prompt=\"动起来\"\n",
    ")\n",
    "\n",
    "print(response)"
   ]
  },
  {
   "cell_type": "code",
   "execution_count": 9,
   "id": "6af82a46-889a-427e-8322-647795975dcb",
   "metadata": {},
   "outputs": [
    {
     "name": "stdout",
     "output_type": "stream",
     "text": [
      "VideoObject(id=None, model='cogvideox', video_result=[VideoResult(url='https://aigc-files.bigmodel.cn/api/cogvideo/0867f87a-ad29-11ef-96bb-e63bd27113c0_0.mp4', cover_image_url='https://aigc-files.bigmodel.cn/api/cogvideo/0867f87a-ad29-11ef-96bb-e63bd27113c0_cover_0.jpeg')], task_status='SUCCESS', request_id='-9202953212055996548')\n"
     ]
    }
   ],
   "source": [
    "from zhipuai import ZhipuAI\n",
    "client = ZhipuAI(api_key=\"d52cec0edb50db749fa27415908447a3.5htZTytpJ2u7rcK0\")\n",
    "\n",
    "response = client.videos.retrieve_videos_result(\n",
    "    id = \"11201732692005677-9202953212055996547\"\n",
    ")\n",
    "print(response)"
   ]
  },
  {
   "cell_type": "code",
   "execution_count": null,
   "id": "72343042-125d-4bf0-ad7f-743406b0c4ad",
   "metadata": {},
   "outputs": [],
   "source": []
  }
 ],
 "metadata": {
  "kernelspec": {
   "display_name": "Python 3 (ipykernel)",
   "language": "python",
   "name": "python3"
  },
  "language_info": {
   "codemirror_mode": {
    "name": "ipython",
    "version": 3
   },
   "file_extension": ".py",
   "mimetype": "text/x-python",
   "name": "python",
   "nbconvert_exporter": "python",
   "pygments_lexer": "ipython3",
   "version": "3.9.7"
  }
 },
 "nbformat": 4,
 "nbformat_minor": 5
}
